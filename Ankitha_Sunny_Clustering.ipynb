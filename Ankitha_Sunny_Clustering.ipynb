{
 "cells": [
  {
   "cell_type": "code",
   "execution_count": 2,
   "id": "34252428",
   "metadata": {},
   "outputs": [],
   "source": [
    "import pandas as pd\n",
    "import numpy as np\n",
    "import matplotlib.pyplot as plt\n",
    "import seaborn as sns\n",
    "from sklearn.preprocessing import StandardScaler, LabelEncoder\n",
    "from sklearn.cluster import KMeans\n",
    "from sklearn.metrics import davies_bouldin_score, silhouette_score\n",
    "from scipy.spatial.distance import cdist"
   ]
  },
  {
   "cell_type": "code",
   "execution_count": 3,
   "id": "58c2e727",
   "metadata": {},
   "outputs": [
    {
     "data": {
      "text/html": [
       "<div>\n",
       "<style scoped>\n",
       "    .dataframe tbody tr th:only-of-type {\n",
       "        vertical-align: middle;\n",
       "    }\n",
       "\n",
       "    .dataframe tbody tr th {\n",
       "        vertical-align: top;\n",
       "    }\n",
       "\n",
       "    .dataframe thead th {\n",
       "        text-align: right;\n",
       "    }\n",
       "</style>\n",
       "<table border=\"1\" class=\"dataframe\">\n",
       "  <thead>\n",
       "    <tr style=\"text-align: right;\">\n",
       "      <th></th>\n",
       "      <th>ProductID</th>\n",
       "      <th>ProductName</th>\n",
       "      <th>Category</th>\n",
       "      <th>CustomerID</th>\n",
       "      <th>CustomerName</th>\n",
       "      <th>Region</th>\n",
       "      <th>SignupDate</th>\n",
       "      <th>TransactionID</th>\n",
       "      <th>TransactionDate</th>\n",
       "      <th>Quantity</th>\n",
       "      <th>TotalValue</th>\n",
       "      <th>Price</th>\n",
       "      <th>CalculatedValue</th>\n",
       "      <th>Month</th>\n",
       "      <th>Year</th>\n",
       "      <th>Month_Year</th>\n",
       "      <th>Day</th>\n",
       "      <th>Day_Name</th>\n",
       "    </tr>\n",
       "  </thead>\n",
       "  <tbody>\n",
       "    <tr>\n",
       "      <th>0</th>\n",
       "      <td>P001</td>\n",
       "      <td>ActiveWear Biography</td>\n",
       "      <td>Books</td>\n",
       "      <td>C0017</td>\n",
       "      <td>Jennifer King</td>\n",
       "      <td>Europe</td>\n",
       "      <td>2023-12-05</td>\n",
       "      <td>T00758</td>\n",
       "      <td>2024-05-28 14:47:15</td>\n",
       "      <td>3</td>\n",
       "      <td>507.9</td>\n",
       "      <td>169.3</td>\n",
       "      <td>507.9</td>\n",
       "      <td>5</td>\n",
       "      <td>2024</td>\n",
       "      <td>2024-05</td>\n",
       "      <td>2</td>\n",
       "      <td>Tuesday</td>\n",
       "    </tr>\n",
       "    <tr>\n",
       "      <th>1</th>\n",
       "      <td>P001</td>\n",
       "      <td>ActiveWear Biography</td>\n",
       "      <td>Books</td>\n",
       "      <td>C0019</td>\n",
       "      <td>Brandon Rodriguez</td>\n",
       "      <td>Europe</td>\n",
       "      <td>2023-01-12</td>\n",
       "      <td>T00088</td>\n",
       "      <td>2024-01-30 17:23:03</td>\n",
       "      <td>2</td>\n",
       "      <td>338.6</td>\n",
       "      <td>169.3</td>\n",
       "      <td>338.6</td>\n",
       "      <td>1</td>\n",
       "      <td>2024</td>\n",
       "      <td>2024-01</td>\n",
       "      <td>2</td>\n",
       "      <td>Tuesday</td>\n",
       "    </tr>\n",
       "    <tr>\n",
       "      <th>2</th>\n",
       "      <td>P001</td>\n",
       "      <td>ActiveWear Biography</td>\n",
       "      <td>Books</td>\n",
       "      <td>C0024</td>\n",
       "      <td>Michele Cooley</td>\n",
       "      <td>North America</td>\n",
       "      <td>2024-02-05</td>\n",
       "      <td>T00314</td>\n",
       "      <td>2024-09-24 17:15:16</td>\n",
       "      <td>4</td>\n",
       "      <td>677.2</td>\n",
       "      <td>169.3</td>\n",
       "      <td>677.2</td>\n",
       "      <td>9</td>\n",
       "      <td>2024</td>\n",
       "      <td>2024-09</td>\n",
       "      <td>2</td>\n",
       "      <td>Tuesday</td>\n",
       "    </tr>\n",
       "    <tr>\n",
       "      <th>3</th>\n",
       "      <td>P001</td>\n",
       "      <td>ActiveWear Biography</td>\n",
       "      <td>Books</td>\n",
       "      <td>C0036</td>\n",
       "      <td>Brian Aguilar DDS</td>\n",
       "      <td>North America</td>\n",
       "      <td>2024-07-06</td>\n",
       "      <td>T00433</td>\n",
       "      <td>2024-05-05 05:01:18</td>\n",
       "      <td>2</td>\n",
       "      <td>338.6</td>\n",
       "      <td>169.3</td>\n",
       "      <td>338.6</td>\n",
       "      <td>5</td>\n",
       "      <td>2024</td>\n",
       "      <td>2024-05</td>\n",
       "      <td>0</td>\n",
       "      <td>Sunday</td>\n",
       "    </tr>\n",
       "    <tr>\n",
       "      <th>4</th>\n",
       "      <td>P001</td>\n",
       "      <td>ActiveWear Biography</td>\n",
       "      <td>Books</td>\n",
       "      <td>C0045</td>\n",
       "      <td>Michael Williams</td>\n",
       "      <td>Asia</td>\n",
       "      <td>2022-02-25</td>\n",
       "      <td>T00732</td>\n",
       "      <td>2024-08-13 10:42:48</td>\n",
       "      <td>2</td>\n",
       "      <td>338.6</td>\n",
       "      <td>169.3</td>\n",
       "      <td>338.6</td>\n",
       "      <td>8</td>\n",
       "      <td>2024</td>\n",
       "      <td>2024-08</td>\n",
       "      <td>2</td>\n",
       "      <td>Tuesday</td>\n",
       "    </tr>\n",
       "  </tbody>\n",
       "</table>\n",
       "</div>"
      ],
      "text/plain": [
       "  ProductID           ProductName Category CustomerID       CustomerName  \\\n",
       "0      P001  ActiveWear Biography    Books      C0017      Jennifer King   \n",
       "1      P001  ActiveWear Biography    Books      C0019  Brandon Rodriguez   \n",
       "2      P001  ActiveWear Biography    Books      C0024     Michele Cooley   \n",
       "3      P001  ActiveWear Biography    Books      C0036  Brian Aguilar DDS   \n",
       "4      P001  ActiveWear Biography    Books      C0045   Michael Williams   \n",
       "\n",
       "          Region  SignupDate TransactionID      TransactionDate  Quantity  \\\n",
       "0         Europe  2023-12-05        T00758  2024-05-28 14:47:15         3   \n",
       "1         Europe  2023-01-12        T00088  2024-01-30 17:23:03         2   \n",
       "2  North America  2024-02-05        T00314  2024-09-24 17:15:16         4   \n",
       "3  North America  2024-07-06        T00433  2024-05-05 05:01:18         2   \n",
       "4           Asia  2022-02-25        T00732  2024-08-13 10:42:48         2   \n",
       "\n",
       "   TotalValue  Price  CalculatedValue  Month  Year Month_Year  Day Day_Name  \n",
       "0       507.9  169.3            507.9      5  2024    2024-05    2  Tuesday  \n",
       "1       338.6  169.3            338.6      1  2024    2024-01    2  Tuesday  \n",
       "2       677.2  169.3            677.2      9  2024    2024-09    2  Tuesday  \n",
       "3       338.6  169.3            338.6      5  2024    2024-05    0   Sunday  \n",
       "4       338.6  169.3            338.6      8  2024    2024-08    2  Tuesday  "
      ]
     },
     "execution_count": 3,
     "metadata": {},
     "output_type": "execute_result"
    }
   ],
   "source": [
    "df = pd.read_csv(\"final_data.csv\")\n",
    "df.head()"
   ]
  },
  {
   "cell_type": "code",
   "execution_count": 4,
   "id": "a6c3676b",
   "metadata": {},
   "outputs": [],
   "source": [
    "customer_features = df.groupby(\"CustomerID\").agg({\n",
    "    \"TotalValue\": \"sum\",\n",
    "    \"Quantity\": \"sum\",\n",
    "    \"Region\": \"first\",  # Categorical\n",
    "    \"Category\": \"first\",  # Categorical\n",
    "    \"SignupDate\": \"first\"  # Convert to numerical later\n",
    "}).reset_index()"
   ]
  },
  {
   "cell_type": "code",
   "execution_count": 5,
   "id": "e40495ac",
   "metadata": {},
   "outputs": [],
   "source": [
    "customer_features[\"SignupDate\"] = pd.to_datetime(customer_features[\"SignupDate\"])\n",
    "customer_features[\"SignupDays\"] = (pd.to_datetime('today') - customer_features[\"SignupDate\"]).dt.days\n",
    "\n",
    "# Encode categorical variables\n",
    "le_region = LabelEncoder()\n",
    "customer_features[\"Region\"] = le_region.fit_transform(customer_features[\"Region\"])\n",
    "\n",
    "le_category = LabelEncoder()\n",
    "customer_features[\"Category\"] = le_category.fit_transform(customer_features[\"Category\"])\n",
    "\n",
    "# Select features for clustering\n",
    "features = [\"TotalValue\", \"Quantity\", \"Region\", \"Category\", \"SignupDays\"]\n",
    "X = customer_features[features]\n",
    "\n",
    "# Standardize data for clustering\n",
    "scaler = StandardScaler()\n",
    "X_scaled = scaler.fit_transform(X)"
   ]
  },
  {
   "cell_type": "code",
   "execution_count": 6,
   "id": "4dd91be2",
   "metadata": {},
   "outputs": [
    {
     "data": {
      "image/png": "[encoded data removed]",
      "text/plain": [
       "<Figure size 576x360 with 1 Axes>"
      ]
     },
     "metadata": {
      "needs_background": "light"
     },
     "output_type": "display_data"
    }
   ],
   "source": [
    "# Use the Elbow Method to determine optimal clusters\n",
    "distortions = []\n",
    "K = range(2, 10)\n",
    "\n",
    "for k in K:\n",
    "    kmeans = KMeans(n_clusters=k, random_state=42)\n",
    "    kmeans.fit(X_scaled)\n",
    "    distortions.append(sum(np.min(cdist(X_scaled, kmeans.cluster_centers_, 'euclidean'), axis=1)) / X_scaled.shape[0])\n",
    "\n",
    "# Plot Elbow Method\n",
    "plt.figure(figsize=(8, 5))\n",
    "plt.plot(K, distortions, 'bo-')\n",
    "plt.xlabel(\"Number of Clusters (k)\")\n",
    "plt.ylabel(\"Distortion\")\n",
    "plt.title(\"Elbow Method to Determine Optimal k\")\n",
    "plt.show()\n"
   ]
  },
  {
   "cell_type": "code",
   "execution_count": 11,
   "id": "2aa986d4",
   "metadata": {},
   "outputs": [],
   "source": [
    "optimal_clusters = 6\n",
    "kmeans = KMeans(n_clusters=optimal_clusters, random_state=42)\n",
    "customer_features[\"Cluster\"] = kmeans.fit_predict(X_scaled)"
   ]
  },
  {
   "cell_type": "code",
   "execution_count": 12,
   "id": "05d72d2c",
   "metadata": {},
   "outputs": [
    {
     "name": "stdout",
     "output_type": "stream",
     "text": [
      "Davies-Bouldin Index: 1.3340\n",
      "Silhouette Score: 0.2235\n"
     ]
    }
   ],
   "source": [
    "# Compute Clustering Metrics\n",
    "db_index = davies_bouldin_score(X_scaled, customer_features[\"Cluster\"])\n",
    "silhouette_avg = silhouette_score(X_scaled, customer_features[\"Cluster\"])\n",
    "\n",
    "print(f\"Davies-Bouldin Index: {db_index:.4f}\")  # Lower is better\n",
    "print(f\"Silhouette Score: {silhouette_avg:.4f}\")  # Higher is better\n"
   ]
  },
  {
   "cell_type": "code",
   "execution_count": 13,
   "id": "62383495",
   "metadata": {},
   "outputs": [
    {
     "data": {
      "image/png": "[encoded data removed]",
      "text/plain": [
       "<Figure size 720x432 with 1 Axes>"
      ]
     },
     "metadata": {
      "needs_background": "light"
     },
     "output_type": "display_data"
    }
   ],
   "source": [
    "# Visualize clusters with scatter plot\n",
    "plt.figure(figsize=(10, 6))\n",
    "sns.scatterplot(x=customer_features[\"TotalValue\"], \n",
    "                y=customer_features[\"Quantity\"], \n",
    "                hue=customer_features[\"Cluster\"], \n",
    "                palette=\"viridis\")\n",
    "\n",
    "plt.xlabel(\"Total Spend\")\n",
    "plt.ylabel(\"Total Quantity Purchased\")\n",
    "plt.title(\"Customer Segments Based on Spend & Quantity\")\n",
    "plt.legend(title=\"Cluster\")\n",
    "plt.show()\n"
   ]
  },
  {
   "cell_type": "code",
   "execution_count": 14,
   "id": "ce6ef4e1",
   "metadata": {},
   "outputs": [],
   "source": [
    "# Save clustered customer data\n",
    "customer_features.to_csv(\"segmented_customers.csv\", index=False)\n"
   ]
  },
  {
   "cell_type": "code",
   "execution_count": null,
   "id": "a61dba1a",
   "metadata": {},
   "outputs": [],
   "source": []
  }
 ],
 "metadata": {
  "kernelspec": {
   "display_name": "Python 3 (ipykernel)",
   "language": "python",
   "name": "python3"
  },
  "language_info": {
   "codemirror_mode": {
    "name": "ipython",
    "version": 3
   },
   "file_extension": ".py",
   "mimetype": "text/x-python",
   "name": "python",
   "nbconvert_exporter": "python",
   "pygments_lexer": "ipython3",
   "version": "3.8.10"
  }
 },
 "nbformat": 4,
 "nbformat_minor": 5
}
